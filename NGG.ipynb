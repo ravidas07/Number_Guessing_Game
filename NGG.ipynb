{
 "cells": [
  {
   "cell_type": "markdown",
   "id": "23af7d58-9a8a-44ea-ab83-5b240fe760d2",
   "metadata": {},
   "source": [
    "#    Python Project \n",
    "# \"Number Guessing Game\""
   ]
  },
  {
   "cell_type": "code",
   "execution_count": 4,
   "id": "039d9c90-6466-4b83-95a7-adac320bf40a",
   "metadata": {},
   "outputs": [
    {
     "name": "stdout",
     "output_type": "stream",
     "text": [
      "\u001b[1m|*|*|*|-- Number Guessing Game --|*|*|*|\n",
      "\n"
     ]
    },
    {
     "name": "stdin",
     "output_type": "stream",
     "text": [
      "Enter Number Between 1-5   1\n"
     ]
    },
    {
     "name": "stdout",
     "output_type": "stream",
     "text": [
      "Try again!\n"
     ]
    },
    {
     "name": "stdin",
     "output_type": "stream",
     "text": [
      "Enter Number Between 1-5   1\n"
     ]
    },
    {
     "name": "stdout",
     "output_type": "stream",
     "text": [
      "Try again!\n"
     ]
    },
    {
     "name": "stdin",
     "output_type": "stream",
     "text": [
      "Enter Number Between 1-5   1\n"
     ]
    },
    {
     "name": "stdout",
     "output_type": "stream",
     "text": [
      "You won!!!\n",
      "You got 1 star\n"
     ]
    }
   ],
   "source": [
    "import numpy as np\n",
    "\n",
    "initial_chance= 3\n",
    "chance= initial_chance\n",
    "\n",
    "print ('\\033[1m' + '|*|*|*|-- Number Guessing Game --|*|*|*|'+'\\n')\n",
    "\n",
    "while chance>0:\n",
    "    chance=chance-1\n",
    "    \n",
    "    try:\n",
    "        a=np.random.randint(1,6)\n",
    "        \n",
    "        b= int(input(\"Enter Number Between 1-5  \"))\n",
    "        \n",
    "        if b < 1 or b > 5:\n",
    "            print(\"Please enter a number between 1 and 5.\")\n",
    "            chance += 1  \n",
    "            continue\n",
    "            \n",
    "        if a==b :\n",
    "            print(\"You won!!!\")\n",
    "            \n",
    "            if chance== initial_chance-1:\n",
    "                print(\"You got 5 stars \")\n",
    "            elif chance== initial_chance-2:\n",
    "                print(\"You got 3 stars\")\n",
    "            else:\n",
    "                print(\"You got 1 star\")\n",
    "            break\n",
    "            \n",
    "        else:\n",
    "            if chance>0:\n",
    "                print(\"Try again!\")\n",
    "            else:\n",
    "                print(f\"You lost! The correct number was {a}\") \n",
    "                \n",
    "    except ValueError:\n",
    "        chance=chance+1\n",
    "        print(\"Invalid input, Please Enter a digit\")\n"
   ]
  },
  {
   "cell_type": "code",
   "execution_count": null,
   "id": "f62b0c05-e1ca-42cc-955c-48f4f44b3ca4",
   "metadata": {},
   "outputs": [],
   "source": []
  },
  {
   "cell_type": "code",
   "execution_count": null,
   "id": "2c632149-b784-426e-b962-6d7f3a39659d",
   "metadata": {},
   "outputs": [],
   "source": []
  },
  {
   "cell_type": "code",
   "execution_count": null,
   "id": "fa08d609-f31a-49e2-81a9-4f7382d76844",
   "metadata": {},
   "outputs": [],
   "source": []
  }
 ],
 "metadata": {
  "kernelspec": {
   "display_name": "Python 3 (ipykernel)",
   "language": "python",
   "name": "python3"
  },
  "language_info": {
   "codemirror_mode": {
    "name": "ipython",
    "version": 3
   },
   "file_extension": ".py",
   "mimetype": "text/x-python",
   "name": "python",
   "nbconvert_exporter": "python",
   "pygments_lexer": "ipython3",
   "version": "3.12.4"
  }
 },
 "nbformat": 4,
 "nbformat_minor": 5
}
